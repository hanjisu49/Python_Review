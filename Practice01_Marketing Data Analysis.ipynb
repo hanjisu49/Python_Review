{
 "cells": [
  {
   "cell_type": "markdown",
   "metadata": {},
   "source": [
    "# <center>올인원 패키지 : 머신러닝과 데이터분석 A-Z</center>"
   ]
  },
  {
   "cell_type": "markdown",
   "metadata": {},
   "source": [
    "### # Domain Knowledge 2 : 광고성과지표\n",
    "| 광고성과지표 | = | 계산식 |\n",
    "|:---------- |---------- |:---------- |\n",
    "|CTR(Click Through Rate)|=|클릭수 / 노출수 * 100|\n",
    "|CPM(Cost Per Mile)|=|광고비용 / 노출수 * 1000|\n",
    "|CPC(Cost Per Click)|=|광고비용 / 클릭수|\n",
    "|CPA(Cost Per Action)|=|광고비용 / 구매수|"
   ]
  },
  {
   "cell_type": "code",
   "execution_count": null,
   "metadata": {},
   "outputs": [],
   "source": [
    "imp=10000\n",
    "clk=100\n",
    "conv=10\n",
    "cost=100000"
   ]
  },
  {
   "cell_type": "code",
   "execution_count": null,
   "metadata": {},
   "outputs": [],
   "source": [
    "# ctr\n",
    "crt = clk / imp * 100"
   ]
  },
  {
   "cell_type": "code",
   "execution_count": null,
   "metadata": {},
   "outputs": [],
   "source": [
    "#ctr 출력\n",
    "crt"
   ]
  },
  {
   "cell_type": "code",
   "execution_count": null,
   "metadata": {},
   "outputs": [],
   "source": [
    "# cpm\n",
    "cpm = cost / imp *1000"
   ]
  },
  {
   "cell_type": "code",
   "execution_count": null,
   "metadata": {},
   "outputs": [],
   "source": [
    "#cpm 출력\n",
    "cpm"
   ]
  },
  {
   "cell_type": "code",
   "execution_count": null,
   "metadata": {},
   "outputs": [],
   "source": [
    "# cpc\n",
    "cpc = cost / clk"
   ]
  },
  {
   "cell_type": "code",
   "execution_count": null,
   "metadata": {},
   "outputs": [],
   "source": [
    "#cpc 출력\n",
    "cpc"
   ]
  },
  {
   "cell_type": "code",
   "execution_count": null,
   "metadata": {},
   "outputs": [],
   "source": [
    "# cpa \n",
    "cpa = cost / conv"
   ]
  },
  {
   "cell_type": "code",
   "execution_count": null,
   "metadata": {},
   "outputs": [],
   "source": [
    "#cpa 출력\n",
    "cpa"
   ]
  },
  {
   "cell_type": "markdown",
   "metadata": {},
   "source": [
    "# Matplotlib \n",
    "###    - 시각화 라이브러리"
   ]
  },
  {
   "cell_type": "markdown",
   "metadata": {},
   "source": [
    "### # 데이터 분석과정과 시각화"
   ]
  },
  {
   "cell_type": "markdown",
   "metadata": {},
   "source": [
    "- 머신러닝의 과정\n",
    " 1. 데이터 수집\n",
    " 2. 데이터 전처리 \n",
    " 3. 데이터 탐색 ★\n",
    " 4. 모델 선택\n",
    " 5. 모델 평가 및 적용"
   ]
  },
  {
   "cell_type": "markdown",
   "metadata": {},
   "source": [
    "### # 시각화의 필요성\n",
    "1. 대량의 데이터 파악 가능\n",
    "2. 데이터의 패턴 파악 가능"
   ]
  },
  {
   "cell_type": "code",
   "execution_count": null,
   "metadata": {},
   "outputs": [],
   "source": [
    "import matplotlib.pyplot as plt"
   ]
  },
  {
   "cell_type": "code",
   "execution_count": null,
   "metadata": {},
   "outputs": [],
   "source": [
    "import pandas as pd\n",
    "from pandas import DataFrame\n",
    "from pandas import Series"
   ]
  },
  {
   "cell_type": "code",
   "execution_count": null,
   "metadata": {},
   "outputs": [],
   "source": [
    "# matplotlib 한글 폰트 출력코드\n",
    "# 출처 : 데이터공방( https://kiddwannabe.blog.me)\n",
    "\n",
    "import matplotlib\n",
    "from matplotlib import font_manager, rc\n",
    "import platform\n",
    "\n",
    "try : \n",
    "    if platform.system() == 'Windows':\n",
    "    # 윈도우인 경우\n",
    "        font_name = font_manager.FontProperties(fname=\"c:/Windows/Fonts/malgun.ttf\").get_name()\n",
    "        rc('font', family=font_name)\n",
    "    else:    \n",
    "    # Mac 인 경우\n",
    "        rc('font', family='AppleGothic')\n",
    "except : \n",
    "    pass\n",
    "matplotlib.rcParams['axes.unicode_minus'] = False   "
   ]
  },
  {
   "cell_type": "code",
   "execution_count": null,
   "metadata": {},
   "outputs": [],
   "source": [
    "import pandas as pd\n",
    "from pandas import DataFrame\n",
    "from pandas import Series"
   ]
  },
  {
   "cell_type": "code",
   "execution_count": null,
   "metadata": {},
   "outputs": [],
   "source": [
    "df=pd.read_excel('NAVER.xls',skiprows=[0])"
   ]
  },
  {
   "cell_type": "code",
   "execution_count": null,
   "metadata": {},
   "outputs": [],
   "source": [
    "df"
   ]
  },
  {
   "cell_type": "code",
   "execution_count": null,
   "metadata": {
    "scrolled": true
   },
   "outputs": [],
   "source": [
    "((((df['노출수'].sort_values())/1000).reset_index()).drop('index',axis=1)).plot(figsize=[13,5])\n",
    "plt.yticks([0,2000,4000,6000,8000,10000],[0,'2,000,000','4,000,000','6,000,000','8,000,000','10,000,000'])\n",
    "plt.title('노출수 plot',fontsize=20)\n",
    "plt.show()"
   ]
  },
  {
   "attachments": {
    "matplotlib.JPG": {
     "image/jpeg": "[encoded data removed]"
    }
   },
   "cell_type": "markdown",
   "metadata": {},
   "source": [
    "<br><br><br>\n",
    "![matplotlib.JPG](attachment:matplotlib.JPG)\n",
    "<br>\n",
    "- 시각화 라이브러리 matplotlib\n",
    "- matplotlib은 pandas의 데이터프레임, 시리즈 자료구조와 함께 사용 가능 \n",
    "- 따라서 데이터 처리와 동시에 시각화도 함께 진행할 수 있음\n",
    "- 아나콘다(anaconda)를 설치했다면 별도의 설치과정이 필요 없음"
   ]
  },
  {
   "cell_type": "code",
   "execution_count": null,
   "metadata": {},
   "outputs": [],
   "source": [
    "# matplotlib import\n",
    "import matplotlib.pyplot as plt"
   ]
  },
  {
   "cell_type": "code",
   "execution_count": null,
   "metadata": {},
   "outputs": [],
   "source": [
    "# pandas, DataFrame, Series import\n",
    "import pandas as pd\n",
    "from pandas import DataFrame\n",
    "from pandas import Series"
   ]
  },
  {
   "cell_type": "code",
   "execution_count": null,
   "metadata": {},
   "outputs": [],
   "source": [
    "# matplotlib 한글 폰트 출력코드\n",
    "# 출처 : 데이터공방( https://kiddwannabe.blog.me)\n",
    "\n",
    "import matplotlib\n",
    "from matplotlib import font_manager, rc\n",
    "import platform\n",
    "\n",
    "try : \n",
    "    if platform.system() == 'Windows':\n",
    "    # 윈도우인 경우\n",
    "        font_name = font_manager.FontProperties(fname=\"c:/Windows/Fonts/malgun.ttf\").get_name()\n",
    "        rc('font', family=font_name)\n",
    "    else:    \n",
    "    # Mac 인 경우\n",
    "        rc('font', family='AppleGothic')\n",
    "except : \n",
    "    pass\n",
    "matplotlib.rcParams['axes.unicode_minus'] = False   "
   ]
  },
  {
   "cell_type": "markdown",
   "metadata": {},
   "source": [
    "### # 데이터프레임 시각화"
   ]
  },
  {
   "cell_type": "code",
   "execution_count": null,
   "metadata": {},
   "outputs": [],
   "source": [
    "#데이터프레임 변수 생성\n",
    "dict_data={\"철수\":[79,95,88,80],\"영희\":[95,75,80,75],\"민수\":[60,85,100,76],\"수진\":[88,100,60,75]}\n",
    "df=DataFrame(dict_data)\n",
    "df.index = ['국어', '수학', '영어', '과학']"
   ]
  },
  {
   "cell_type": "code",
   "execution_count": null,
   "metadata": {
    "scrolled": true
   },
   "outputs": [],
   "source": [
    "df"
   ]
  },
  {
   "cell_type": "markdown",
   "metadata": {},
   "source": [
    "### # 차트 그리기"
   ]
  },
  {
   "cell_type": "code",
   "execution_count": null,
   "metadata": {},
   "outputs": [],
   "source": [
    "# 선그래프 \n",
    "df.plot()\n",
    "plt.xlabel(\"과목\")\n",
    "plt.ylabel(\"점수\")\n",
    "plt.title(\"국영수과 과목 성적\")\n",
    "plt.show"
   ]
  },
  {
   "cell_type": "code",
   "execution_count": null,
   "metadata": {},
   "outputs": [],
   "source": [
    "# 막대그래프\n",
    "df.plot.bar()\n",
    "plt.show"
   ]
  },
  {
   "cell_type": "code",
   "execution_count": null,
   "metadata": {
    "scrolled": true
   },
   "outputs": [],
   "source": [
    "# 가로막대그래프\n",
    "df.plot.barh()\n",
    "plt.show"
   ]
  },
  {
   "cell_type": "code",
   "execution_count": null,
   "metadata": {
    "scrolled": true
   },
   "outputs": [],
   "source": [
    "# 히스토그램\n",
    "df.plot.hist()\n",
    "plt.show"
   ]
  },
  {
   "cell_type": "code",
   "execution_count": null,
   "metadata": {
    "scrolled": false
   },
   "outputs": [],
   "source": [
    "# 히스토그램 구간설정\n",
    "df.plot.hist(bins=range(60, 105, 5))\n",
    "plt.show"
   ]
  },
  {
   "cell_type": "markdown",
   "metadata": {},
   "source": [
    "### # 차트에 옵션 추가하기"
   ]
  },
  {
   "cell_type": "code",
   "execution_count": null,
   "metadata": {
    "scrolled": true
   },
   "outputs": [],
   "source": [
    "# 기본 막대그래프\n",
    "df.plot.bar()\n",
    "plt.show()"
   ]
  },
  {
   "cell_type": "code",
   "execution_count": null,
   "metadata": {
    "scrolled": true
   },
   "outputs": [],
   "source": [
    "# 그래프 크기 설정\n",
    "df.plot.bar(figsize=[10, 6])\n",
    "plt.show()"
   ]
  },
  {
   "cell_type": "code",
   "execution_count": null,
   "metadata": {},
   "outputs": [],
   "source": [
    "# 제목설정\n",
    "df.plot.bar(figsize=[10, 6])\n",
    "plt.title(\"예제 : 학생들 성적\")\n",
    "plt.show()"
   ]
  },
  {
   "cell_type": "code",
   "execution_count": null,
   "metadata": {},
   "outputs": [],
   "source": [
    "# 제목 폰트 크기 설정\n",
    "df.plot.bar(figsize=[10, 6])\n",
    "plt.title(\"예제 : 학생들 성적\", fontsize=18)\n",
    "plt.xlabel('과목')\n",
    "plt.show()"
   ]
  },
  {
   "cell_type": "code",
   "execution_count": null,
   "metadata": {},
   "outputs": [],
   "source": [
    "# x축 이름 설정\n",
    "df.plot.bar(figsize=[10, 6])\n",
    "plt.title(\"예제 : 학생들 성적\", fontsize=18)\n",
    "plt.xlabel('과목')\n",
    "plt.show()"
   ]
  },
  {
   "cell_type": "code",
   "execution_count": null,
   "metadata": {},
   "outputs": [],
   "source": [
    "# x축 이름 및 폰트크기 설정\n",
    "df.plot.bar(figsize=[10, 6])\n",
    "plt.title(\"예제 : 학생들 성적\", fontsize=18)\n",
    "plt.xlabel('과목', fontsize=16)\n",
    "plt.show()"
   ]
  },
  {
   "cell_type": "code",
   "execution_count": null,
   "metadata": {},
   "outputs": [],
   "source": [
    "# y축 이름 및 폰트 크기 설정 \n",
    "df.plot.bar(figsize=[10, 6])\n",
    "plt.title(\"예제 : 학생들 성적\", fontsize=18)\n",
    "plt.xlabel('과목', fontsize=16)\n",
    "plt.ylabel('점수', fontsize=16)\n",
    "plt.show()"
   ]
  },
  {
   "cell_type": "code",
   "execution_count": null,
   "metadata": {},
   "outputs": [],
   "source": [
    "# x축 눈금설정\n",
    "# 설정할 눈금의 위치, 눈금의 이름, 폰트사이즈, 각도\n",
    "df.plot.bar(figsize=[10, 6])\n",
    "plt.title(\"예제 : 학생들 성적\", fontsize=18)\n",
    "plt.xlabel('과목', fontsize=16)\n",
    "plt.ylabel('점수', fontsize=16)\n",
    "plt.xticks(fontsize=10, rotation=0)\n",
    "plt.show()"
   ]
  },
  {
   "cell_type": "code",
   "execution_count": null,
   "metadata": {},
   "outputs": [],
   "source": [
    "# y축 눈금설정\n",
    "df.plot.bar(figsize=[10, 6])\n",
    "plt.title(\"예제 : 학생들 성적\", fontsize=18)\n",
    "plt.xlabel('과목', fontsize=16)\n",
    "plt.ylabel('점수', fontsize=16)\n",
    "plt.xticks(fontsize=10, rotation=0)\n",
    "plt.yticks(fontsize=10, rotation=0)\n",
    "plt.show()"
   ]
  },
  {
   "cell_type": "code",
   "execution_count": null,
   "metadata": {},
   "outputs": [],
   "source": [
    "# x축 범위설정\n",
    "df.plot.bar(figsize=[10, 6])\n",
    "plt.title(\"예제 : 학생들 성적\", fontsize=18)\n",
    "plt.xlabel('과목', fontsize=16)\n",
    "plt.ylabel('점수', fontsize=16)\n",
    "plt.xticks(fontsize=10, rotation=0)\n",
    "plt.yticks(fontsize=10, rotation=0)\n",
    "plt.xlim([-1,4])\n",
    "plt.show()"
   ]
  },
  {
   "cell_type": "code",
   "execution_count": null,
   "metadata": {
    "scrolled": true
   },
   "outputs": [],
   "source": [
    "# y축 범위설정\n",
    "df.plot.bar(figsize=[10, 6])\n",
    "plt.title(\"예제 : 학생들 성적\", fontsize=18)\n",
    "plt.xlabel('과목', fontsize=16)\n",
    "plt.ylabel('점수', fontsize=16)\n",
    "plt.xticks(fontsize=10, rotation=0)\n",
    "plt.yticks(fontsize=10, rotation=0)\n",
    "plt.xlim([-1,4])\n",
    "plt.ylim([50,100])\n",
    "plt.show()"
   ]
  },
  {
   "cell_type": "markdown",
   "metadata": {},
   "source": [
    "### # 시리즈 시각화"
   ]
  },
  {
   "cell_type": "code",
   "execution_count": null,
   "metadata": {},
   "outputs": [],
   "source": [
    "# 데이터프레임 열 = 시리즈\n",
    "df['철수']"
   ]
  },
  {
   "cell_type": "code",
   "execution_count": null,
   "metadata": {},
   "outputs": [],
   "source": [
    "# 선그래프\n",
    "df['철수'].plot(color='m')\n",
    "plt.show()"
   ]
  },
  {
   "cell_type": "code",
   "execution_count": null,
   "metadata": {},
   "outputs": [],
   "source": [
    "# 막대그래프\n",
    "df['철수'].plot.bar(color='m')\n",
    "plt.show()"
   ]
  },
  {
   "cell_type": "code",
   "execution_count": null,
   "metadata": {},
   "outputs": [],
   "source": [
    "# 가로막대그래프\n",
    "df['철수'].plot.barh(color='m')\n",
    "plt.show()"
   ]
  },
  {
   "cell_type": "code",
   "execution_count": null,
   "metadata": {
    "scrolled": true
   },
   "outputs": [],
   "source": [
    "# 히스토그램(구간설정)\n",
    "df['철수'].plot.hist(bins=range(75,100,5), color='m')\n",
    "plt.show()"
   ]
  },
  {
   "cell_type": "markdown",
   "metadata": {},
   "source": [
    "### # 차트에 옵션 추가하기"
   ]
  },
  {
   "cell_type": "code",
   "execution_count": null,
   "metadata": {
    "scrolled": true
   },
   "outputs": [],
   "source": [
    "df['철수'].plot.bar()\n",
    "plt.show()"
   ]
  },
  {
   "cell_type": "code",
   "execution_count": null,
   "metadata": {
    "scrolled": true
   },
   "outputs": [],
   "source": [
    "df['철수'].plot.bar(figsize=[10, 6], color = 'y')\n",
    "plt.title(\"철수 성적\", fontsize=18)\n",
    "plt.xlabel('과목', fontsize=16)\n",
    "plt.ylabel('점수', fontsize=16)\n",
    "plt.xticks(fontsize=10, rotation=0)\n",
    "plt.yticks(fontsize=10, rotation=0)\n",
    "plt.xlim([-1,4])\n",
    "plt.ylim([50,100])\n",
    "plt.show()"
   ]
  }
 ],
 "metadata": {
  "kernelspec": {
   "display_name": "Python 3 (ipykernel)",
   "language": "python",
   "name": "python3"
  },
  "language_info": {
   "codemirror_mode": {
    "name": "ipython",
    "version": 3
   },
   "file_extension": ".py",
   "mimetype": "text/x-python",
   "name": "python",
   "nbconvert_exporter": "python",
   "pygments_lexer": "ipython3",
   "version": "3.9.12"
  }
 },
 "nbformat": 4,
 "nbformat_minor": 2
}
