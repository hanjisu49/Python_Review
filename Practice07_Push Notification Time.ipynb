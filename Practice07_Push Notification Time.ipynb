{
 "cells": [
  {
   "cell_type": "markdown",
   "metadata": {},
   "source": [
    "### 학습목표\n",
    "1. 푸쉬 노티피케이션 타임 의사 결정 하기"
   ]
  },
  {
   "cell_type": "code",
   "execution_count": 1,
   "metadata": {},
   "outputs": [],
   "source": [
    "import numpy as np\n",
    "import pandas as pd\n",
    "# seaborn\n",
    "import seaborn as sns\n",
    "COLORS = sns.color_palette()\n",
    "\n",
    "%matplotlib inline"
   ]
  },
  {
   "cell_type": "code",
   "execution_count": 2,
   "metadata": {},
   "outputs": [],
   "source": [
    "def plot_bar(df, xlabel, ylabel, title, figsize=(20, 10), color=COLORS[-1], rotation=45):\n",
    "    plot = df.plot(kind='bar', color=color, figsize=figsize)\n",
    "    plot.set_xlabel(xlabel, fontsize=10)\n",
    "    plot.set_ylabel(ylabel, fontsize=10)\n",
    "    plot.set_title(title, fontsize=12)\n",
    "    plot.set_xticklabels(labels=df.index, rotation=rotation)"
   ]
  },
  {
   "cell_type": "code",
   "execution_count": 3,
   "metadata": {},
   "outputs": [
    {
     "data": {
      "text/html": [
       "<div>\n",
       "<style scoped>\n",
       "    .dataframe tbody tr th:only-of-type {\n",
       "        vertical-align: middle;\n",
       "    }\n",
       "\n",
       "    .dataframe tbody tr th {\n",
       "        vertical-align: top;\n",
       "    }\n",
       "\n",
       "    .dataframe thead th {\n",
       "        text-align: right;\n",
       "    }\n",
       "</style>\n",
       "<table border=\"1\" class=\"dataframe\">\n",
       "  <thead>\n",
       "    <tr style=\"text-align: right;\">\n",
       "      <th></th>\n",
       "      <th>Unnamed: 0</th>\n",
       "      <th>InvoiceNo</th>\n",
       "      <th>StockCode</th>\n",
       "      <th>Description</th>\n",
       "      <th>Quantity</th>\n",
       "      <th>InvoiceDate</th>\n",
       "      <th>UnitPrice</th>\n",
       "      <th>CustomerID</th>\n",
       "      <th>Country</th>\n",
       "      <th>CheckoutPrice</th>\n",
       "    </tr>\n",
       "  </thead>\n",
       "  <tbody>\n",
       "    <tr>\n",
       "      <th>0</th>\n",
       "      <td>0</td>\n",
       "      <td>536365</td>\n",
       "      <td>85123A</td>\n",
       "      <td>WHITE HANGING HEART T-LIGHT HOLDER</td>\n",
       "      <td>6</td>\n",
       "      <td>2010-12-01 08:26:00</td>\n",
       "      <td>2.55</td>\n",
       "      <td>17850</td>\n",
       "      <td>United Kingdom</td>\n",
       "      <td>15.30</td>\n",
       "    </tr>\n",
       "    <tr>\n",
       "      <th>1</th>\n",
       "      <td>1</td>\n",
       "      <td>536365</td>\n",
       "      <td>71053</td>\n",
       "      <td>WHITE METAL LANTERN</td>\n",
       "      <td>6</td>\n",
       "      <td>2010-12-01 08:26:00</td>\n",
       "      <td>3.39</td>\n",
       "      <td>17850</td>\n",
       "      <td>United Kingdom</td>\n",
       "      <td>20.34</td>\n",
       "    </tr>\n",
       "    <tr>\n",
       "      <th>2</th>\n",
       "      <td>2</td>\n",
       "      <td>536365</td>\n",
       "      <td>84406B</td>\n",
       "      <td>CREAM CUPID HEARTS COAT HANGER</td>\n",
       "      <td>8</td>\n",
       "      <td>2010-12-01 08:26:00</td>\n",
       "      <td>2.75</td>\n",
       "      <td>17850</td>\n",
       "      <td>United Kingdom</td>\n",
       "      <td>22.00</td>\n",
       "    </tr>\n",
       "    <tr>\n",
       "      <th>3</th>\n",
       "      <td>3</td>\n",
       "      <td>536365</td>\n",
       "      <td>84029G</td>\n",
       "      <td>KNITTED UNION FLAG HOT WATER BOTTLE</td>\n",
       "      <td>6</td>\n",
       "      <td>2010-12-01 08:26:00</td>\n",
       "      <td>3.39</td>\n",
       "      <td>17850</td>\n",
       "      <td>United Kingdom</td>\n",
       "      <td>20.34</td>\n",
       "    </tr>\n",
       "    <tr>\n",
       "      <th>4</th>\n",
       "      <td>4</td>\n",
       "      <td>536365</td>\n",
       "      <td>84029E</td>\n",
       "      <td>RED WOOLLY HOTTIE WHITE HEART.</td>\n",
       "      <td>6</td>\n",
       "      <td>2010-12-01 08:26:00</td>\n",
       "      <td>3.39</td>\n",
       "      <td>17850</td>\n",
       "      <td>United Kingdom</td>\n",
       "      <td>20.34</td>\n",
       "    </tr>\n",
       "  </tbody>\n",
       "</table>\n",
       "</div>"
      ],
      "text/plain": [
       "   Unnamed: 0  InvoiceNo StockCode                          Description  \\\n",
       "0           0     536365    85123A   WHITE HANGING HEART T-LIGHT HOLDER   \n",
       "1           1     536365     71053                  WHITE METAL LANTERN   \n",
       "2           2     536365    84406B       CREAM CUPID HEARTS COAT HANGER   \n",
       "3           3     536365    84029G  KNITTED UNION FLAG HOT WATER BOTTLE   \n",
       "4           4     536365    84029E       RED WOOLLY HOTTIE WHITE HEART.   \n",
       "\n",
       "   Quantity         InvoiceDate  UnitPrice  CustomerID         Country  \\\n",
       "0         6 2010-12-01 08:26:00       2.55       17850  United Kingdom   \n",
       "1         6 2010-12-01 08:26:00       3.39       17850  United Kingdom   \n",
       "2         8 2010-12-01 08:26:00       2.75       17850  United Kingdom   \n",
       "3         6 2010-12-01 08:26:00       3.39       17850  United Kingdom   \n",
       "4         6 2010-12-01 08:26:00       3.39       17850  United Kingdom   \n",
       "\n",
       "   CheckoutPrice  \n",
       "0          15.30  \n",
       "1          20.34  \n",
       "2          22.00  \n",
       "3          20.34  \n",
       "4          20.34  "
      ]
     },
     "execution_count": 3,
     "metadata": {},
     "output_type": "execute_result"
    }
   ],
   "source": [
    "dtypes = {\n",
    "    'UnitPrice': np.float32,\n",
    "    'CustomerID': np.int32,\n",
    "    'Quantity': np.int32\n",
    "}\n",
    "retail = pd.read_csv('./OnlineRetailClean.csv', dtype=dtypes)\n",
    "retail['InvoiceDate'] = pd.to_datetime(retail['InvoiceDate'], infer_datetime_format=True)\n",
    "retail.head()"
   ]
  },
  {
   "cell_type": "code",
   "execution_count": null,
   "metadata": {},
   "outputs": [],
   "source": []
  },
  {
   "cell_type": "markdown",
   "metadata": {},
   "source": [
    "#### 쿠폰 발송을 할때, push를 언제 보내는게 좋을까?\n",
    " - 고객에게 쿠폰 발송을 한다고 기획하고, 회의를 한다고 가정해보겠습니다. \n",
    "  - A: 쿠폰을 언제보내는게 좋을까요?\n",
    "  - B: 아침에 출퇴근 시간에 보내는게 좋을까요?\n",
    "  - C: 점심 먹고 졸린데 그때 보내보죠?\n",
    "  - D: 흠 자기전에 스마트폰 많이 하던데 그때는 어떨까요?\n",
    "  - A: 그러면 평균 시간을 내볼까요?\n",
    "  - K: 아 **데이터**를 확인해보는게 맞지 않을까요? 언제 고객이 주로 주문을 하는지? \n",
    "\n",
    "\n",
    " - 위에서 처럼 실제로 회의를 하다보면 의사결정이 본인/주변의 경험에 의해서 이뤄지는 것을 많이 볼 수 있습니다. \n",
    " - 주문이 이뤄지는 시간을 고려하지 않고 막무가내로 보낸다면 아무 의미가 없고, 추후 같은 이벤트 발생시에도 판단 근거가 없게 됨\n",
    " - 현상태에서는 가장 많이 주문이 일어나는 시점에서 하는 것이 가장 직관적인 판단\n",
    "   - 1. 데이터로 파악\n",
    "   - 2. 가설 제시\n",
    "   - 3. 가설 검증\n",
    "   - 4. 1-3 반복\n",
    " - 시간(hour, minute)과 주로 관련되기 때문에 역시 InvoiceDate가 중요한 feature\n",
    "   "
   ]
  },
  {
   "cell_type": "code",
   "execution_count": 4,
   "metadata": {},
   "outputs": [
    {
     "data": {
      "text/plain": [
       "InvoiceDate\n",
       "6         1\n",
       "7       379\n",
       "8      8690\n",
       "9     21944\n",
       "10    37997\n",
       "11    49084\n",
       "12    72065\n",
       "13    64026\n",
       "14    54118\n",
       "15    45369\n",
       "16    24089\n",
       "17    13071\n",
       "18     2928\n",
       "19     3321\n",
       "20      802\n",
       "Name: CustomerID, dtype: int64"
      ]
     },
     "execution_count": 4,
     "metadata": {},
     "output_type": "execute_result"
    }
   ],
   "source": [
    "order_by_hour = retail.set_index('InvoiceDate').groupby(lambda date: date.hour).count()['CustomerID']\n",
    "order_by_hour\n"
   ]
  },
  {
   "cell_type": "code",
   "execution_count": 5,
   "metadata": {},
   "outputs": [
    {
     "data": {
      "image/png": "[encoded data removed]",
      "text/plain": [
       "<Figure size 1440x720 with 1 Axes>"
      ]
     },
     "metadata": {
      "needs_background": "light"
     },
     "output_type": "display_data"
    }
   ],
   "source": [
    "plot_bar(order_by_hour, 'hour', '# orders', 'Order by hour')"
   ]
  },
  {
   "cell_type": "code",
   "execution_count": 6,
   "metadata": {},
   "outputs": [],
   "source": [
    "def half_an_hour(date):\n",
    "    minute = ':00'\n",
    "    if date.minute > 30:\n",
    "        minute = ':30'\n",
    "    hour = str(date.hour)\n",
    "    if date.hour < 10:\n",
    "        hour = '0' + hour\n",
    "      \n",
    "    return hour + minute"
   ]
  },
  {
   "cell_type": "code",
   "execution_count": 7,
   "metadata": {
    "scrolled": true
   },
   "outputs": [
    {
     "data": {
      "text/plain": [
       "InvoiceDate\n",
       "06:00        1\n",
       "07:30      379\n",
       "08:00     3145\n",
       "08:30     5545\n",
       "09:00     9364\n",
       "09:30    12580\n",
       "10:00    16950\n",
       "10:30    21047\n",
       "11:00    18925\n",
       "11:30    30159\n",
       "12:00    37174\n",
       "12:30    34891\n",
       "13:00    31131\n",
       "13:30    32895\n",
       "14:00    26958\n",
       "14:30    27160\n",
       "15:00    24227\n",
       "15:30    21142\n",
       "16:00    14316\n",
       "16:30     9773\n",
       "17:00     8889\n",
       "17:30     4182\n",
       "18:00     1715\n",
       "18:30     1213\n",
       "19:00     1534\n",
       "19:30     1787\n",
       "20:00      802\n",
       "Name: CustomerID, dtype: int64"
      ]
     },
     "execution_count": 7,
     "metadata": {},
     "output_type": "execute_result"
    }
   ],
   "source": [
    "order_by_hour_half = retail.set_index('InvoiceDate').groupby(half_an_hour).count()['CustomerID']\n",
    "order_by_hour_half"
   ]
  },
  {
   "cell_type": "code",
   "execution_count": 8,
   "metadata": {},
   "outputs": [
    {
     "data": {
      "text/plain": [
       "InvoiceDate\n",
       "06:00    0.000003\n",
       "07:30    0.000953\n",
       "08:00    0.007904\n",
       "08:30    0.013936\n",
       "09:00    0.023534\n",
       "09:30    0.031617\n",
       "10:00    0.042600\n",
       "10:30    0.052897\n",
       "11:00    0.047564\n",
       "11:30    0.075798\n",
       "12:00    0.093429\n",
       "12:30    0.087691\n",
       "13:00    0.078241\n",
       "13:30    0.082675\n",
       "14:00    0.067753\n",
       "14:30    0.068261\n",
       "15:00    0.060890\n",
       "15:30    0.053136\n",
       "16:00    0.035980\n",
       "16:30    0.024562\n",
       "17:00    0.022341\n",
       "17:30    0.010511\n",
       "18:00    0.004310\n",
       "18:30    0.003049\n",
       "19:00    0.003855\n",
       "19:30    0.004491\n",
       "20:00    0.002016\n",
       "Name: CustomerID, dtype: float64"
      ]
     },
     "execution_count": 8,
     "metadata": {},
     "output_type": "execute_result"
    }
   ],
   "source": [
    "order_by_hour_half / order_by_hour_half.sum()"
   ]
  },
  {
   "cell_type": "code",
   "execution_count": 9,
   "metadata": {},
   "outputs": [
    {
     "data": {
      "image/png": "[encoded data removed]",
      "text/plain": [
       "<Figure size 1440x720 with 1 Axes>"
      ]
     },
     "metadata": {
      "needs_background": "light"
     },
     "output_type": "display_data"
    }
   ],
   "source": [
    "plot_bar(order_by_hour_half, 'half an hour', '# orders', 'Order by half an hour')"
   ]
  },
  {
   "cell_type": "markdown",
   "metadata": {},
   "source": [
    "#### 개인화된 push notification\n",
    " - 아마존을 필두로, 개인화(personalization)하여 맞춤으로 사용자마다 최적의 솔루션을 찾는것이 트렌드가 됨\n",
    " - 사용자별로 소비의 패턴이 다를 수 있기 때문에, 가장 많이 구매한 시간대를 찾아서 해당 시간대에 쿠폰을 발송!"
   ]
  },
  {
   "cell_type": "markdown",
   "metadata": {},
   "source": [
    "#### 사용자별 각 시간별 주문 량 계산하기"
   ]
  },
  {
   "cell_type": "code",
   "execution_count": 10,
   "metadata": {},
   "outputs": [
    {
     "data": {
      "text/plain": [
       "CustomerID  InvoiceDate\n",
       "12346       10              1\n",
       "12347       8              22\n",
       "            10             24\n",
       "            12             47\n",
       "            13             18\n",
       "                           ..\n",
       "18283       15              1\n",
       "            16             56\n",
       "            19             87\n",
       "18287       9               3\n",
       "            10             67\n",
       "Name: StockCode, Length: 11205, dtype: int64"
      ]
     },
     "execution_count": 10,
     "metadata": {},
     "output_type": "execute_result"
    }
   ],
   "source": [
    "order_count_by_hour = retail.set_index('InvoiceDate').groupby(['CustomerID', lambda date: date.hour]).count()['StockCode']\n",
    "order_count_by_hour"
   ]
  },
  {
   "cell_type": "code",
   "execution_count": 11,
   "metadata": {},
   "outputs": [
    {
     "data": {
      "text/plain": [
       "InvoiceDate\n",
       "8     22\n",
       "10    24\n",
       "12    47\n",
       "13    18\n",
       "14    60\n",
       "15    11\n",
       "Name: StockCode, dtype: int64"
      ]
     },
     "execution_count": 11,
     "metadata": {},
     "output_type": "execute_result"
    }
   ],
   "source": [
    "order_count_by_hour.loc[12347]"
   ]
  },
  {
   "cell_type": "markdown",
   "metadata": {},
   "source": [
    "#### 사용자별 최대 주문 시간 계산하기\n",
    " - 가장 많은 주문량을 보인 시간을 계산"
   ]
  },
  {
   "cell_type": "code",
   "execution_count": 12,
   "metadata": {},
   "outputs": [],
   "source": [
    "idx = order_count_by_hour.groupby('CustomerID').idxmax()"
   ]
  },
  {
   "cell_type": "markdown",
   "metadata": {},
   "source": [
    "#### 해당 시간 indexing"
   ]
  },
  {
   "cell_type": "code",
   "execution_count": 13,
   "metadata": {},
   "outputs": [
    {
     "data": {
      "text/plain": [
       "CustomerID  InvoiceDate\n",
       "12346       10               1\n",
       "12347       14              60\n",
       "12348       19              17\n",
       "12349       9               73\n",
       "12350       16              17\n",
       "                          ... \n",
       "18280       9               10\n",
       "18281       10               7\n",
       "18282       13               7\n",
       "18283       14             201\n",
       "18287       10              67\n",
       "Name: StockCode, Length: 4338, dtype: int64"
      ]
     },
     "execution_count": 13,
     "metadata": {},
     "output_type": "execute_result"
    }
   ],
   "source": [
    "result = order_count_by_hour.loc[idx]\n",
    "result"
   ]
  },
  {
   "cell_type": "code",
   "execution_count": 17,
   "metadata": {},
   "outputs": [
    {
     "data": {
      "text/html": [
       "<div>\n",
       "<style scoped>\n",
       "    .dataframe tbody tr th:only-of-type {\n",
       "        vertical-align: middle;\n",
       "    }\n",
       "\n",
       "    .dataframe tbody tr th {\n",
       "        vertical-align: top;\n",
       "    }\n",
       "\n",
       "    .dataframe thead th {\n",
       "        text-align: right;\n",
       "    }\n",
       "</style>\n",
       "<table border=\"1\" class=\"dataframe\">\n",
       "  <thead>\n",
       "    <tr style=\"text-align: right;\">\n",
       "      <th></th>\n",
       "      <th>CustomerID</th>\n",
       "      <th>InvoiceDate</th>\n",
       "      <th>StockCode</th>\n",
       "    </tr>\n",
       "  </thead>\n",
       "  <tbody>\n",
       "    <tr>\n",
       "      <th>0</th>\n",
       "      <td>12346</td>\n",
       "      <td>10</td>\n",
       "      <td>1</td>\n",
       "    </tr>\n",
       "    <tr>\n",
       "      <th>1</th>\n",
       "      <td>12347</td>\n",
       "      <td>14</td>\n",
       "      <td>60</td>\n",
       "    </tr>\n",
       "    <tr>\n",
       "      <th>2</th>\n",
       "      <td>12348</td>\n",
       "      <td>19</td>\n",
       "      <td>17</td>\n",
       "    </tr>\n",
       "    <tr>\n",
       "      <th>3</th>\n",
       "      <td>12349</td>\n",
       "      <td>9</td>\n",
       "      <td>73</td>\n",
       "    </tr>\n",
       "    <tr>\n",
       "      <th>4</th>\n",
       "      <td>12350</td>\n",
       "      <td>16</td>\n",
       "      <td>17</td>\n",
       "    </tr>\n",
       "    <tr>\n",
       "      <th>...</th>\n",
       "      <td>...</td>\n",
       "      <td>...</td>\n",
       "      <td>...</td>\n",
       "    </tr>\n",
       "    <tr>\n",
       "      <th>4333</th>\n",
       "      <td>18280</td>\n",
       "      <td>9</td>\n",
       "      <td>10</td>\n",
       "    </tr>\n",
       "    <tr>\n",
       "      <th>4334</th>\n",
       "      <td>18281</td>\n",
       "      <td>10</td>\n",
       "      <td>7</td>\n",
       "    </tr>\n",
       "    <tr>\n",
       "      <th>4335</th>\n",
       "      <td>18282</td>\n",
       "      <td>13</td>\n",
       "      <td>7</td>\n",
       "    </tr>\n",
       "    <tr>\n",
       "      <th>4336</th>\n",
       "      <td>18283</td>\n",
       "      <td>14</td>\n",
       "      <td>201</td>\n",
       "    </tr>\n",
       "    <tr>\n",
       "      <th>4337</th>\n",
       "      <td>18287</td>\n",
       "      <td>10</td>\n",
       "      <td>67</td>\n",
       "    </tr>\n",
       "  </tbody>\n",
       "</table>\n",
       "<p>4338 rows × 3 columns</p>\n",
       "</div>"
      ],
      "text/plain": [
       "      CustomerID  InvoiceDate  StockCode\n",
       "0          12346           10          1\n",
       "1          12347           14         60\n",
       "2          12348           19         17\n",
       "3          12349            9         73\n",
       "4          12350           16         17\n",
       "...          ...          ...        ...\n",
       "4333       18280            9         10\n",
       "4334       18281           10          7\n",
       "4335       18282           13          7\n",
       "4336       18283           14        201\n",
       "4337       18287           10         67\n",
       "\n",
       "[4338 rows x 3 columns]"
      ]
     },
     "execution_count": 17,
     "metadata": {},
     "output_type": "execute_result"
    }
   ],
   "source": [
    "result.reset_index()"
   ]
  },
  {
   "cell_type": "code",
   "execution_count": 19,
   "metadata": {},
   "outputs": [],
   "source": [
    "result_df = result.reset_index().groupby('InvoiceDate')"
   ]
  },
  {
   "cell_type": "code",
   "execution_count": 20,
   "metadata": {},
   "outputs": [
    {
     "name": "stdout",
     "output_type": "stream",
     "text": [
      "      CustomerID  InvoiceDate  StockCode\n",
      "73         12435            7         19\n",
      "269        12678            7         61\n",
      "319        12736            7          4\n",
      "344        12775            7         15\n",
      "375        12823            7          1\n",
      "893        13538            7          5\n",
      "1667       14619            7         20\n",
      "2317       15505            7         29 \n",
      "\n",
      "\n",
      "      CustomerID  InvoiceDate  StockCode\n",
      "46         12405            8         54\n",
      "58         12420            8         29\n",
      "87         12452            8         21\n",
      "126        12506            8         23\n",
      "172        12562            8         29\n",
      "...          ...          ...        ...\n",
      "4185       18080            8          1\n",
      "4259       18180            8         64\n",
      "4300       18232            8         16\n",
      "4301       18233            8          1\n",
      "4302       18235            8         51\n",
      "\n",
      "[125 rows x 3 columns] \n",
      "\n",
      "\n",
      "      CustomerID  InvoiceDate  StockCode\n",
      "3          12349            9         73\n",
      "9          12356            9         36\n",
      "26         12377            9         43\n",
      "30         12381            9         62\n",
      "33         12386            9          8\n",
      "...          ...          ...        ...\n",
      "4291       18223            9         87\n",
      "4303       18236            9         15\n",
      "4307       18241            9         29\n",
      "4320       18261            9         15\n",
      "4333       18280            9         10\n",
      "\n",
      "[333 rows x 3 columns] \n",
      "\n",
      "\n",
      "      CustomerID  InvoiceDate  StockCode\n",
      "0          12346           10          1\n",
      "11         12358           10         19\n",
      "21         12371           10         63\n",
      "27         12378           10        219\n",
      "28         12379           10         20\n",
      "...          ...          ...        ...\n",
      "4319       18260           10         55\n",
      "4322       18263           10         30\n",
      "4330       18276           10         14\n",
      "4334       18281           10          7\n",
      "4337       18287           10         67\n",
      "\n",
      "[510 rows x 3 columns] \n",
      "\n",
      "\n",
      "      CustomerID  InvoiceDate  StockCode\n",
      "29         12380           11         40\n",
      "32         12384           11         14\n",
      "34         12388           11         41\n",
      "57         12418           11         34\n",
      "99         12468           11         26\n",
      "...          ...          ...        ...\n",
      "4239       18155           11         11\n",
      "4253       18173           11         20\n",
      "4310       18246           11          2\n",
      "4328       18273           11          2\n",
      "4332       18278           11          9\n",
      "\n",
      "[477 rows x 3 columns] \n",
      "\n",
      "\n",
      "      CustomerID  InvoiceDate  StockCode\n",
      "12         12359           12        168\n",
      "20         12370           12        131\n",
      "22         12372           12         33\n",
      "36         12391           12        100\n",
      "50         12409           12         64\n",
      "...          ...          ...        ...\n",
      "4287       18219           12         39\n",
      "4295       18227           12          5\n",
      "4304       18237           12         32\n",
      "4315       18252           12         95\n",
      "4327       18272           12         45\n",
      "\n",
      "[756 rows x 3 columns] \n",
      "\n",
      "\n",
      "      CustomerID  InvoiceDate  StockCode\n",
      "7          12354           13         58\n",
      "8          12355           13         13\n",
      "14         12361           13         10\n",
      "16         12363           13         16\n",
      "18         12365           13         21\n",
      "...          ...          ...        ...\n",
      "4313       18250           13         21\n",
      "4316       18255           13          6\n",
      "4325       18269           13          7\n",
      "4326       18270           13          6\n",
      "4335       18282           13          7\n",
      "\n",
      "[672 rows x 3 columns] \n",
      "\n",
      "\n",
      "      CustomerID  InvoiceDate  StockCode\n",
      "1          12347           14         60\n",
      "5          12352           14         52\n",
      "25         12375           14         11\n",
      "31         12383           14         79\n",
      "38         12394           14         21\n",
      "...          ...          ...        ...\n",
      "4299       18231           14         48\n",
      "4309       18245           14        110\n",
      "4317       18257           14         75\n",
      "4318       18259           14         21\n",
      "4336       18283           14        201\n",
      "\n",
      "[566 rows x 3 columns] \n",
      "\n",
      "\n",
      "      CustomerID  InvoiceDate  StockCode\n",
      "13         12360           15         54\n",
      "15         12362           15         60\n",
      "17         12364           15         56\n",
      "24         12374           15         33\n",
      "65         12427           15         15\n",
      "...          ...          ...        ...\n",
      "4305       18239           15         31\n",
      "4312       18249           15          8\n",
      "4314       18251           15         16\n",
      "4323       18265           15         29\n",
      "4331       18277           15          8\n",
      "\n",
      "[478 rows x 3 columns] \n",
      "\n",
      "\n",
      "      CustomerID  InvoiceDate  StockCode\n",
      "4          12350           16         17\n",
      "10         12357           16        131\n",
      "19         12367           16         11\n",
      "39         12395           16         69\n",
      "53         12413           16         24\n",
      "...          ...          ...        ...\n",
      "4271       18196           16        141\n",
      "4281       18212           16         43\n",
      "4283       18215           16         13\n",
      "4284       18216           16         26\n",
      "4321       18262           16         13\n",
      "\n",
      "[231 rows x 3 columns] \n",
      "\n",
      "\n",
      "      CustomerID  InvoiceDate  StockCode\n",
      "6          12353           17          4\n",
      "63         12425           17         36\n",
      "89         12454           17         15\n",
      "153        12538           17         21\n",
      "185        12579           17         29\n",
      "...          ...          ...        ...\n",
      "4138       18011           17         28\n",
      "4144       18018           17         27\n",
      "4151       18033           17         34\n",
      "4153       18035           17         27\n",
      "4329       18274           17         11\n",
      "\n",
      "[122 rows x 3 columns] \n",
      "\n",
      "\n",
      "      CustomerID  InvoiceDate  StockCode\n",
      "80         12445           18          4\n",
      "320        12738           18         11\n",
      "453        12931           18         24\n",
      "637        13187           18         37\n",
      "767        13364           18         10\n",
      "862        13501           18         52\n",
      "879        13519           18          8\n",
      "1128       13874           18         18\n",
      "1326       14147           18          3\n",
      "1378       14220           18         11\n",
      "1498       14393           18          5\n",
      "1519       14420           18         29\n",
      "1624       14551           18          7\n",
      "1652       14592           18         75\n",
      "1758       14740           18         34\n",
      "1768       14756           18         38\n",
      "1844       14865           18          3\n",
      "2879       16268           18         45\n",
      "3198       16715           18         19\n",
      "3467       17078           18         27\n",
      "3511       17142           18         15\n",
      "3537       17180           18         54\n",
      "3767       17507           18         45\n",
      "3802       17552           18         48\n",
      "3820       17578           18          5\n",
      "3837       17601           18          9\n",
      "4072       17921           18        101\n",
      "4077       17928           18         17\n",
      "4079       17930           18         15\n",
      "4273       18200           18         32 \n",
      "\n",
      "\n",
      "      CustomerID  InvoiceDate  StockCode\n",
      "2          12348           19         17\n",
      "47         12406           19         56\n",
      "667        13230           19        143\n",
      "1589       14508           19         33\n",
      "1591       14512           19         14\n",
      "1639       14573           19         76\n",
      "1730       14702           19        176\n",
      "1776       14765           19         38\n",
      "1928       14985           19         50\n",
      "2044       15135           19          9\n",
      "2448       15675           19         13\n",
      "2548       15810           19         32\n",
      "2876       16261           19         56\n",
      "3002       16438           19         50\n",
      "3047       16498           19         14\n",
      "3261       16791           19         87\n",
      "3274       16808           19         23\n",
      "3479       17092           19         48\n",
      "3556       17212           19          4\n",
      "3652       17351           19         16\n",
      "3685       17392           19         49\n",
      "3789       17531           19         14\n",
      "3812       17566           19         87\n",
      "4324       18268           19          1 \n",
      "\n",
      "\n",
      "      CustomerID  InvoiceDate  StockCode\n",
      "1646       14584           20         34\n",
      "1943       15014           20         32\n",
      "3804       17554           20         50\n",
      "3838       17602           20        137\n",
      "4050       17891           20         34\n",
      "4110       17970           20         31 \n",
      "\n",
      "\n"
     ]
    }
   ],
   "source": [
    "for key, item in result_df:\n",
    "    print(result_df.get_group(key), \"\\n\\n\")"
   ]
  },
  {
   "cell_type": "code",
   "execution_count": null,
   "metadata": {},
   "outputs": [],
   "source": []
  }
 ],
 "metadata": {
  "kernelspec": {
   "display_name": "Python 3 (ipykernel)",
   "language": "python",
   "name": "python3"
  },
  "language_info": {
   "codemirror_mode": {
    "name": "ipython",
    "version": 3
   },
   "file_extension": ".py",
   "mimetype": "text/x-python",
   "name": "python",
   "nbconvert_exporter": "python",
   "pygments_lexer": "ipython3",
   "version": "3.9.12"
  }
 },
 "nbformat": 4,
 "nbformat_minor": 2
}
